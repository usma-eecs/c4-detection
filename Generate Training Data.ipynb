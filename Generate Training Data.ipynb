{
 "cells": [
  {
   "cell_type": "markdown",
   "metadata": {},
   "source": [
    "# C4 Detection Training Data\n",
    "\n",
    "This file generates the training data for the C4 detection project led by Dr. Wenli Huang. You need two things to generate the training data:\n",
    "\n",
    "* 8 images per sample, one image for each of the 8 wavelengths\n",
    "* A mask for the images. The mask separates the explosive chemical from the background material. The mask should be saved as `mask.j2` in the sample folder. \n",
    "\n",
    "This notebook builds vectors from each cooresponding vector in the images and labels each one based on the mask. The output is a numpy array with 9 columns. The first 8 columns are the intensities of the 8 wavelengths for that pixel. The 9th column is whether this vector represents an explosive chemical or not. \n",
    "\n",
    "## Dependencies\n",
    "\n",
    "The images are JPEG-2000 files. You will need to install OpenJPEG, such as the `libjpeg` package for OS X. \n",
    "\n",
    "## Generating masks\n",
    "\n",
    "We are currently using [GIMP](www.gimp.org) to build the masks. Ideally we'd have too many samples to manually build masks, so you could imagine using [computer vision](https://docs.opencv.org/3.3.1/d4/d73/tutorial_py_contours_begin.html) to do it programmatically. "
   ]
  },
  {
   "cell_type": "code",
   "execution_count": null,
   "metadata": {},
   "outputs": [],
   "source": [
    "import os\n",
    "import glob\n",
    "import skimage\n",
    "import numpy as np\n",
    "from skimage import io"
   ]
  },
  {
   "cell_type": "markdown",
   "metadata": {},
   "source": [
    "These are the unix globs for the each sample. Each glob should return exactly 8 images. If you are looking to rebuild the training for a particular sample, just comment out the others. "
   ]
  },
  {
   "cell_type": "code",
   "execution_count": null,
   "metadata": {},
   "outputs": [],
   "source": [
    "SAMPLE_PATHS = [\n",
    "    #\"C4 chunk/*-1.jp2\",\n",
    "    #\"DSYP60-not-C4/*I0000*.jp2\",\n",
    "    #\"50ug-SamariumNitroate-Not-C4/*-1.jp2\",\n",
    "    #\"2014-01-17_09.36.05/*I0000*.jp2\",\n",
    "    \"2014-01-17_09.43.08/*I0000*.jp2\",\n",
    "    #\"2014-01-17_09.54.47/*I0000*.jp2\",\n",
    "    #\"2014-01-17_09.57.19/*I0000*.jp2\",\n",
    "    #\"2014-01-17_10.04.23/*I0000*.jp2\"\n",
    "]"
   ]
  },
  {
   "cell_type": "markdown",
   "metadata": {},
   "source": [
    "Read images, build vectors, read mask, append labels. The vector are saved as serialized numpy arrays to their respective sample folders. "
   ]
  },
  {
   "cell_type": "code",
   "execution_count": null,
   "metadata": {},
   "outputs": [],
   "source": [
    "for sample in SAMPLE_PATHS:\n",
    "    images = []\n",
    "    \n",
    "    for filename in sorted(glob.glob(sample)):\n",
    "        images.append(io.imread(filename))\n",
    "    \n",
    "    dirname = os.path.dirname(sample)\n",
    "    mask = io.imread(os.path.join(dirname,\"mask.jp2\"))\n",
    "    labels = mask == 0\n",
    "    \n",
    "    images.append(labels)\n",
    "    training = np.stack(images,axis=-1).reshape(-1,len(images))\n",
    "    \n",
    "    np.save(os.path.join(dirname,\"training.npy\"),training)"
   ]
  },
  {
   "cell_type": "markdown",
   "metadata": {},
   "source": [
    "## Debugging\n",
    "\n",
    "If you want to highlight certain pixels, you build a mask and overlay that on your image. Here's an example of doing that."
   ]
  },
  {
   "cell_type": "code",
   "execution_count": null,
   "metadata": {},
   "outputs": [],
   "source": [
    "from skimage import data\n",
    "from matplotlib import pyplot as plt"
   ]
  },
  {
   "cell_type": "markdown",
   "metadata": {},
   "source": [
    "Grab an image."
   ]
  },
  {
   "cell_type": "code",
   "execution_count": null,
   "metadata": {},
   "outputs": [],
   "source": [
    "filename = sorted(glob.glob(SAMPLE_PATHS[0]))[0]\n",
    "image = skimage.io.imread(filename)\n",
    "plt.imshow(image)"
   ]
  },
  {
   "cell_type": "markdown",
   "metadata": {},
   "source": [
    "Create a mask. You need a numpy array the same shape as your image. I will build a mask using one of the mask files. "
   ]
  },
  {
   "cell_type": "code",
   "execution_count": null,
   "metadata": {},
   "outputs": [],
   "source": [
    "dirname = os.path.dirname(filename)\n",
    "mask_filename = os.path.join(dirname,\"mask.jp2\")\n",
    "mask_image = io.imread(mask_filename)\n",
    "plt.imshow(mask_image)"
   ]
  },
  {
   "cell_type": "markdown",
   "metadata": {},
   "source": [
    "The actual mask is a boolean value corresponding to every pixel in the original image. Let's just create a mask where every pixel in the mask file is zero. "
   ]
  },
  {
   "cell_type": "code",
   "execution_count": null,
   "metadata": {},
   "outputs": [],
   "source": [
    "mask = mask_image == 0\n",
    "mask"
   ]
  },
  {
   "cell_type": "markdown",
   "metadata": {},
   "source": [
    "Now apply the mask to the original image. We'll make the mask overlay green. That means we'll need to convert the grayscale image to RGB."
   ]
  },
  {
   "cell_type": "code",
   "execution_count": null,
   "metadata": {},
   "outputs": [],
   "source": [
    "color = skimage.color.gray2rgb(image)\n",
    "color[mask] = (0,255,0)\n",
    "plt.imshow(color)"
   ]
  }
 ],
 "metadata": {
  "kernelspec": {
   "display_name": "Python 3",
   "language": "python",
   "name": "python3"
  },
  "language_info": {
   "codemirror_mode": {
    "name": "ipython",
    "version": 3
   },
   "file_extension": ".py",
   "mimetype": "text/x-python",
   "name": "python",
   "nbconvert_exporter": "python",
   "pygments_lexer": "ipython3",
   "version": "3.6.8"
  }
 },
 "nbformat": 4,
 "nbformat_minor": 2
}
