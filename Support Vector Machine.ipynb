{
 "cells": [
  {
   "cell_type": "markdown",
   "metadata": {},
   "source": [
    "# Support Vector Machine\n",
    "\n",
    "This notebook generates a SVM binary classifier for our samples. "
   ]
  },
  {
   "cell_type": "code",
   "execution_count": 2,
   "metadata": {},
   "outputs": [
    {
     "name": "stdout",
     "output_type": "stream",
     "text": [
      "Processing C4 black car panel/data.p ...\n",
      "Processing C4 metal panel/data.p ...\n",
      "Processing C4 red glossy paper/data.p ...\n",
      "Processing C4 white car panel/data.p ...\n",
      "Processing C4 wood panel/data.p ...\n",
      "Processing DSYP60-not-C4/data.p ...\n",
      "Read 7036951 vectors and 7036951 labels.\n"
     ]
    }
   ],
   "source": [
    "import glob\n",
    "import pickle\n",
    "import numpy as np\n",
    "\n",
    "training, labels = np.empty((0,8)), []\n",
    "\n",
    "for path in sorted(glob.glob(\"*/data.p\")):\n",
    "    print(\"Processing\", path, \"...\")\n",
    "    training_i, labels_i = pickle.load(open(path, \"rb\"))\n",
    "    training = np.append(training, training_i, axis=0)\n",
    "    labels = np.append(labels, labels_i, axis=0)\n",
    "\n",
    "print(\"Read\", len(training), \"vectors and\", len(labels), \"labels.\") "
   ]
  },
  {
   "cell_type": "markdown",
   "metadata": {},
   "source": [
    "# Train"
   ]
  },
  {
   "cell_type": "code",
   "execution_count": null,
   "metadata": {},
   "outputs": [],
   "source": [
    "from sklearn import svm\n",
    "\n",
    "classifier = svm.SVC(gamma='scale')\n",
    "classifier.fit(training, labels)"
   ]
  },
  {
   "cell_type": "markdown",
   "metadata": {},
   "source": [
    "# Save model"
   ]
  },
  {
   "cell_type": "code",
   "execution_count": null,
   "metadata": {},
   "outputs": [],
   "source": [
    "pickle.dump(classifier, open(\"models/svm.p\", \"wb\"))"
   ]
  }
 ],
 "metadata": {
  "kernelspec": {
   "display_name": "Python 3",
   "language": "python",
   "name": "python3"
  },
  "language_info": {
   "codemirror_mode": {
    "name": "ipython",
    "version": 3
   },
   "file_extension": ".py",
   "mimetype": "text/x-python",
   "name": "python",
   "nbconvert_exporter": "python",
   "pygments_lexer": "ipython3",
   "version": "3.6.8"
  }
 },
 "nbformat": 4,
 "nbformat_minor": 2
}
